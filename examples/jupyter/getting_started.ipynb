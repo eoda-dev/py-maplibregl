{
 "cells": [
  {
   "cell_type": "code",
   "execution_count": 8,
   "id": "8ae5dd75-d944-4304-88c6-ec2db700dcec",
   "metadata": {},
   "outputs": [],
   "source": [
    "import ipywidgets as widgets\n",
    "\n",
    "from maplibre import MapOptions, Layer, LayerType\n",
    "from maplibre.sources import GeoJSONSource\n",
    "from maplibre.controls import ScaleControl, Marker\n",
    "from maplibre.ipywidget import MapWidget as Map"
   ]
  },
  {
   "cell_type": "markdown",
   "id": "fdd23345-7451-4bea-a91d-664a1d84cee0",
   "metadata": {},
   "source": [
    "# Create a source"
   ]
  },
  {
   "cell_type": "code",
   "execution_count": 2,
   "id": "e7395a31-1f92-4100-abbe-bc0eae14ff83",
   "metadata": {},
   "outputs": [],
   "source": [
    "earthquakes = GeoJSONSource(\n",
    "    data=\"https://docs.mapbox.com/mapbox-gl-js/assets/earthquakes.geojson\"\n",
    ")"
   ]
  },
  {
   "cell_type": "markdown",
   "id": "c87b8cd2-ee14-47f1-b072-baf14bf53fb8",
   "metadata": {},
   "source": [
    "# Create a layer"
   ]
  },
  {
   "cell_type": "code",
   "execution_count": 3,
   "id": "d715d455-2d0b-4415-9ed7-722cd6e6ad21",
   "metadata": {},
   "outputs": [],
   "source": [
    "layer_id = \"earthquakes\"\n",
    "\n",
    "earthquake_circles = Layer(\n",
    "    type=LayerType.CIRCLE,\n",
    "    id=layer_id,\n",
    "    source=earthquakes,\n",
    "    paint={\"circle-color\": \"yellow\"}\n",
    ")"
   ]
  },
  {
   "cell_type": "markdown",
   "id": "087d0f4a-4396-48e2-9fda-aa59dcdd6b38",
   "metadata": {},
   "source": [
    "# Render map"
   ]
  },
  {
   "cell_type": "code",
   "execution_count": 9,
   "id": "e6e2284c-1862-4697-ad94-f535b3682197",
   "metadata": {},
   "outputs": [
    {
     "data": {
      "application/vnd.jupyter.widget-view+json": {
       "model_id": "32df09ba11cb4c64b7c79c3e389e4662",
       "version_major": 2,
       "version_minor": 0
      },
      "text/plain": [
       "MapWidget(height='400px', map_options={'style': 'https://basemaps.cartocdn.com/gl/dark-matter-gl-style/style.j…"
      ]
     },
     "execution_count": 9,
     "metadata": {},
     "output_type": "execute_result"
    }
   ],
   "source": [
    "m = Map()\n",
    "m.add_control(ScaleControl(), position=\"bottom-left\")\n",
    "m.add_layer(earthquake_circles)\n",
    "m.add_tooltip(layer_id, \"mag\")\n",
    "m.add_marker(Marker(lng_lat=(100.507, 13.745)))\n",
    "m"
   ]
  },
  {
   "cell_type": "markdown",
   "id": "9cc3f3c4-0a5c-46d5-ba87-d60db412d7f8",
   "metadata": {},
   "source": [
    "# Change radius"
   ]
  },
  {
   "cell_type": "code",
   "execution_count": 5,
   "id": "356960fa-b866-42c8-a58e-0c9a417c28eb",
   "metadata": {},
   "outputs": [
    {
     "data": {
      "application/vnd.jupyter.widget-view+json": {
       "model_id": "437bd09dbdd24f0896193788a76610b4",
       "version_major": 2,
       "version_minor": 0
      },
      "text/plain": [
       "interactive(children=(IntSlider(value=5, description='radius', max=15, min=-5), Output()), _dom_classes=('widg…"
      ]
     },
     "metadata": {},
     "output_type": "display_data"
    },
    {
     "data": {
      "text/plain": [
       "<function __main__.<lambda>(radius)>"
      ]
     },
     "execution_count": 5,
     "metadata": {},
     "output_type": "execute_result"
    }
   ],
   "source": [
    "widgets.interact(\n",
    "    lambda radius: m.set_paint_property(layer_id, \"circle-radius\", radius),\n",
    "    radius=5\n",
    ")"
   ]
  },
  {
   "cell_type": "markdown",
   "id": "18933f67-19ce-4681-bd3d-cd54459b09a9",
   "metadata": {},
   "source": [
    "# Change color"
   ]
  },
  {
   "cell_type": "code",
   "execution_count": 6,
   "id": "8ecd93a6-f471-4350-a052-7a9171fa1606",
   "metadata": {},
   "outputs": [
    {
     "data": {
      "application/vnd.jupyter.widget-view+json": {
       "model_id": "9b52cdb12c3b4af4ac8bbbfc885aea30",
       "version_major": 2,
       "version_minor": 0
      },
      "text/plain": [
       "interactive(children=(Dropdown(description='color', options=('green', 'yellow', 'orange', 'red'), value='green…"
      ]
     },
     "metadata": {},
     "output_type": "display_data"
    },
    {
     "data": {
      "text/plain": [
       "<function __main__.<lambda>(color)>"
      ]
     },
     "execution_count": 6,
     "metadata": {},
     "output_type": "execute_result"
    }
   ],
   "source": [
    "widgets.interact(\n",
    "    lambda color: m.set_paint_property(layer_id, \"circle-color\", color),\n",
    "    color=[\"green\", \"yellow\", \"orange\", \"red\"]\n",
    ")"
   ]
  },
  {
   "cell_type": "markdown",
   "id": "f72b8eeb-18d8-4181-8bee-94593c5472a3",
   "metadata": {},
   "source": [
    "# Set filter on mag"
   ]
  },
  {
   "cell_type": "code",
   "execution_count": 7,
   "id": "0b73f056-f35a-46bb-a092-d899c64cd67e",
   "metadata": {},
   "outputs": [
    {
     "data": {
      "application/vnd.jupyter.widget-view+json": {
       "model_id": "5a4891d6fb0e418bbfe22c4661363022",
       "version_major": 2,
       "version_minor": 0
      },
      "text/plain": [
       "interactive(children=(IntSlider(value=3, description='mag_min', max=9, min=-3), Output()), _dom_classes=('widg…"
      ]
     },
     "metadata": {},
     "output_type": "display_data"
    },
    {
     "data": {
      "text/plain": [
       "<function __main__.<lambda>(mag_min)>"
      ]
     },
     "execution_count": 7,
     "metadata": {},
     "output_type": "execute_result"
    }
   ],
   "source": [
    "widgets.interact(\n",
    "    lambda mag_min: m.set_filter(layer_id, [\">=\", [\"get\", \"mag\"],  mag_min]),\n",
    "    mag_min=3\n",
    ")"
   ]
  },
  {
   "cell_type": "markdown",
   "id": "04372035-0dcb-4217-b01a-83e82b4c79f5",
   "metadata": {},
   "source": [
    "# Observe map click event"
   ]
  },
  {
   "cell_type": "code",
   "execution_count": 8,
   "id": "a9c5ddf7-074e-45b0-8cfe-15750fd0b4d5",
   "metadata": {},
   "outputs": [
    {
     "data": {
      "application/vnd.jupyter.widget-view+json": {
       "model_id": "119b58c9640f4b058fc218ce17203edf",
       "version_major": 2,
       "version_minor": 0
      },
      "text/plain": [
       "Output()"
      ]
     },
     "execution_count": 8,
     "metadata": {},
     "output_type": "execute_result"
    }
   ],
   "source": [
    "from IPython.display import clear_output\n",
    "\n",
    "output = widgets.Output()\n",
    "\n",
    "def log_lng_lat(lng_lat):\n",
    "    with output:\n",
    "        clear_output()\n",
    "        print(lng_lat.new)\n",
    "\n",
    "\n",
    "m.observe(log_lng_lat, names=\"lng_lat\")\n",
    "output"
   ]
  },
  {
   "cell_type": "code",
   "execution_count": null,
   "id": "7ad74d91-1137-45b4-8791-83dc3546535e",
   "metadata": {},
   "outputs": [],
   "source": []
  }
 ],
 "metadata": {
  "kernelspec": {
   "display_name": "Python 3 (ipykernel)",
   "language": "python",
   "name": "python3"
  },
  "language_info": {
   "codemirror_mode": {
    "name": "ipython",
    "version": 3
   },
   "file_extension": ".py",
   "mimetype": "text/x-python",
   "name": "python",
   "nbconvert_exporter": "python",
   "pygments_lexer": "ipython3",
   "version": "3.9.18"
  }
 },
 "nbformat": 4,
 "nbformat_minor": 5
}
