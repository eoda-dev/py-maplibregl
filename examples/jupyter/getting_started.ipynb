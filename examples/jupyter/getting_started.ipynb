{
 "cells": [
  {
   "cell_type": "code",
   "execution_count": 1,
   "id": "8ae5dd75-d944-4304-88c6-ec2db700dcec",
   "metadata": {},
   "source": [
    "import ipywidgets as widgets\n",
    "\n",
    "from maplibre import MapOptions, Layer, LayerType\n",
    "from maplibre.sources import GeoJSONSource\n",
    "from maplibre.controls import ScaleControl, Marker\n",
    "from maplibre.ipywidget import MapWidget as Map"
   ],
   "outputs": []
  },
  {
   "cell_type": "markdown",
   "id": "fdd23345-7451-4bea-a91d-664a1d84cee0",
   "metadata": {},
   "source": [
    "# Create a source"
   ]
  },
  {
   "cell_type": "code",
   "execution_count": 2,
   "id": "e7395a31-1f92-4100-abbe-bc0eae14ff83",
   "metadata": {},
   "source": [
    "earthquakes = GeoJSONSource(\n",
    "    data=\"https://docs.mapbox.com/mapbox-gl-js/assets/earthquakes.geojson\"\n",
    ")"
   ],
   "outputs": []
  },
  {
   "cell_type": "markdown",
   "id": "c87b8cd2-ee14-47f1-b072-baf14bf53fb8",
   "metadata": {},
   "source": [
    "# Create a layer"
   ]
  },
  {
   "cell_type": "code",
   "execution_count": 3,
   "id": "d715d455-2d0b-4415-9ed7-722cd6e6ad21",
   "metadata": {},
   "source": [
    "layer_id = \"earthquakes\"\n",
    "\n",
    "earthquake_circles = Layer(\n",
    "    type=LayerType.CIRCLE,\n",
    "    id=layer_id,\n",
    "    source=earthquakes,\n",
    "    paint={\"circle-color\": \"yellow\"}\n",
    ")"
   ],
   "outputs": []
  },
  {
   "cell_type": "markdown",
   "id": "087d0f4a-4396-48e2-9fda-aa59dcdd6b38",
   "metadata": {},
   "source": [
    "# Render map"
   ]
  },
  {
   "cell_type": "code",
   "execution_count": 27,
   "id": "e6e2284c-1862-4697-ad94-f535b3682197",
   "metadata": {},
   "source": [
    "m = Map()\n",
    "m.add_control(ScaleControl(), position=\"bottom-left\")\n",
    "m.add_layer(earthquake_circles)\n",
    "m.add_tooltip(layer_id)\n",
    "m.add_marker(Marker(lng_lat=(100.507, 13.745)))\n",
    "m"
   ],
   "outputs": []
  },
  {
   "cell_type": "markdown",
   "id": "9cc3f3c4-0a5c-46d5-ba87-d60db412d7f8",
   "metadata": {},
   "source": [
    "# Change radius"
   ]
  },
  {
   "cell_type": "code",
   "execution_count": 28,
   "id": "356960fa-b866-42c8-a58e-0c9a417c28eb",
   "metadata": {},
   "source": [
    "change_radius = widgets.interact(\n",
    "    lambda radius: m.set_paint_property(layer_id, \"circle-radius\", radius),\n",
    "    radius=(1, 8, 1)\n",
    ")"
   ],
   "outputs": []
  },
  {
   "cell_type": "markdown",
   "id": "18933f67-19ce-4681-bd3d-cd54459b09a9",
   "metadata": {},
   "source": [
    "# Change color"
   ]
  },
  {
   "cell_type": "code",
   "execution_count": 21,
   "id": "8ecd93a6-f471-4350-a052-7a9171fa1606",
   "metadata": {},
   "source": [
    "change_color = widgets.interact(\n",
    "    lambda color: m.set_paint_property(layer_id, \"circle-color\", color),\n",
    "    color=[\"green\", \"yellow\", \"orange\", \"red\"]\n",
    ")"
   ],
   "outputs": []
  },
  {
   "cell_type": "markdown",
   "id": "f72b8eeb-18d8-4181-8bee-94593c5472a3",
   "metadata": {},
   "source": [
    "# Set filter on mag"
   ]
  },
  {
   "cell_type": "code",
   "execution_count": 31,
   "id": "0b73f056-f35a-46bb-a092-d899c64cd67e",
   "metadata": {},
   "source": [
    "filter_mag = widgets.interact(\n",
    "    lambda mag_min: m.set_filter(layer_id, [\">=\", [\"get\", \"mag\"],  mag_min]),\n",
    "    mag_min=(1,7,1)\n",
    ")"
   ],
   "outputs": []
  },
  {
   "cell_type": "markdown",
   "id": "04372035-0dcb-4217-b01a-83e82b4c79f5",
   "metadata": {},
   "source": [
    "# Observe map click event"
   ]
  },
  {
   "cell_type": "code",
   "execution_count": 32,
   "id": "a9c5ddf7-074e-45b0-8cfe-15750fd0b4d5",
   "metadata": {},
   "source": [
    "from IPython.display import clear_output\n",
    "\n",
    "output = widgets.Output()\n",
    "\n",
    "def log_lng_lat(lng_lat):\n",
    "    with output:\n",
    "        clear_output()\n",
    "        print(lng_lat.new)\n",
    "\n",
    "\n",
    "m.observe(log_lng_lat, names=\"lng_lat\")\n",
    "output"
   ],
   "outputs": []
  },
  {
   "cell_type": "code",
   "execution_count": null,
   "id": "7ad74d91-1137-45b4-8791-83dc3546535e",
   "metadata": {},
   "source": [],
   "outputs": []
  },
  {
   "cell_type": "code",
   "execution_count": null,
   "id": "9d34e0d6-7ff9-4f72-9af7-e8a19d51604a",
   "metadata": {},
   "source": [],
   "outputs": []
  }
 ],
 "metadata": {
  "kernelspec": {
   "display_name": "Python 3 (ipykernel)",
   "language": "python",
   "name": "python3"
  },
  "language_info": {
   "codemirror_mode": {
    "name": "ipython",
    "version": 3
   },
   "file_extension": ".py",
   "mimetype": "text/x-python",
   "name": "python",
   "nbconvert_exporter": "python",
   "pygments_lexer": "ipython3",
   "version": "3.9.18"
  }
 },
 "nbformat": 4,
 "nbformat_minor": 5
}
