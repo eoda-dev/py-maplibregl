{
 "cells": [
  {
   "cell_type": "code",
   "execution_count": 1,
   "id": "8ae5dd75-d944-4304-88c6-ec2db700dcec",
   "metadata": {},
   "outputs": [],
   "source": [
    "import ipywidgets as widgets\n",
    "\n",
    "from maplibre import MapOptions, Layer, LayerType\n",
    "from maplibre.sources import GeoJSONSource\n",
    "from maplibre.controls import ScaleControl, Marker\n",
    "from maplibre.ipywidget import MapWidget as Map"
   ]
  },
  {
   "cell_type": "markdown",
   "id": "fdd23345-7451-4bea-a91d-664a1d84cee0",
   "metadata": {},
   "source": [
    "# Create a source"
   ]
  },
  {
   "cell_type": "code",
   "execution_count": 2,
   "id": "e7395a31-1f92-4100-abbe-bc0eae14ff83",
   "metadata": {},
   "outputs": [],
   "source": [
    "earthquakes = GeoJSONSource(\n",
    "    data=\"https://docs.mapbox.com/mapbox-gl-js/assets/earthquakes.geojson\"\n",
    ")"
   ]
  },
  {
   "cell_type": "markdown",
   "id": "c87b8cd2-ee14-47f1-b072-baf14bf53fb8",
   "metadata": {},
   "source": [
    "# Create a layer"
   ]
  },
  {
   "cell_type": "code",
   "execution_count": 3,
   "id": "d715d455-2d0b-4415-9ed7-722cd6e6ad21",
   "metadata": {},
   "outputs": [],
   "source": [
    "layer_id = \"earthquakes\"\n",
    "\n",
    "earthquake_circles = Layer(\n",
    "    type=LayerType.CIRCLE,\n",
    "    id=layer_id,\n",
    "    source=earthquakes,\n",
    "    paint={\"circle-color\": \"yellow\"}\n",
    ")"
   ]
  },
  {
   "cell_type": "markdown",
   "id": "087d0f4a-4396-48e2-9fda-aa59dcdd6b38",
   "metadata": {},
   "source": [
    "# Render map"
   ]
  },
  {
   "cell_type": "code",
   "execution_count": 4,
   "id": "e6e2284c-1862-4697-ad94-f535b3682197",
   "metadata": {},
   "outputs": [
    {
     "data": {
      "application/vnd.jupyter.widget-view+json": {
       "model_id": "ece4babe53924aa7886553d1b5d53bec",
       "version_major": 2,
       "version_minor": 0
      },
      "text/plain": [
       "MapWidget(calls=[['addControl', ('ScaleControl', {'unit': 'metric'}, 'bottom-left')], ['addLayer', ({'id': 'ea…"
      ]
     },
     "execution_count": 4,
     "metadata": {},
     "output_type": "execute_result"
    }
   ],
   "source": [
    "m = Map()\n",
    "m.add_control(ScaleControl(), position=\"bottom-left\")\n",
    "m.add_layer(earthquake_circles)\n",
    "m.add_tooltip(layer_id, \"mag\")\n",
    "m.add_marker(Marker(lng_lat=(100.507, 13.745)))\n",
    "m"
   ]
  },
  {
   "cell_type": "markdown",
   "id": "9cc3f3c4-0a5c-46d5-ba87-d60db412d7f8",
   "metadata": {},
   "source": [
    "# Change radius"
   ]
  },
  {
   "cell_type": "code",
   "execution_count": 6,
   "id": "356960fa-b866-42c8-a58e-0c9a417c28eb",
   "metadata": {},
   "outputs": [
    {
     "data": {
      "application/vnd.jupyter.widget-view+json": {
       "model_id": "60ef57a918734016b9766e41615c1935",
       "version_major": 2,
       "version_minor": 0
      },
      "text/plain": [
       "interactive(children=(IntSlider(value=5, description='radius', max=15, min=-5), Output()), _dom_classes=('widg…"
      ]
     },
     "metadata": {},
     "output_type": "display_data"
    },
    {
     "data": {
      "text/plain": [
       "<function __main__.<lambda>(radius)>"
      ]
     },
     "execution_count": 6,
     "metadata": {},
     "output_type": "execute_result"
    }
   ],
   "source": [
    "widgets.interact(\n",
    "    lambda radius: m.set_paint_property(layer_id, \"circle-radius\", radius),\n",
    "    radius=5\n",
    ")"
   ]
  },
  {
   "cell_type": "markdown",
   "id": "18933f67-19ce-4681-bd3d-cd54459b09a9",
   "metadata": {},
   "source": [
    "# Change color"
   ]
  },
  {
   "cell_type": "code",
   "execution_count": 6,
   "id": "8ecd93a6-f471-4350-a052-7a9171fa1606",
   "metadata": {},
   "outputs": [
    {
     "data": {
      "application/vnd.jupyter.widget-view+json": {
       "model_id": "9b52cdb12c3b4af4ac8bbbfc885aea30",
       "version_major": 2,
       "version_minor": 0
      },
      "text/plain": [
       "interactive(children=(Dropdown(description='color', options=('green', 'yellow', 'orange', 'red'), value='green…"
      ]
     },
     "metadata": {},
     "output_type": "display_data"
    },
    {
     "data": {
      "text/plain": [
       "<function __main__.<lambda>(color)>"
      ]
     },
     "execution_count": 6,
     "metadata": {},
     "output_type": "execute_result"
    }
   ],
   "source": [
    "widgets.interact(\n",
    "    lambda color: m.set_paint_property(layer_id, \"circle-color\", color),\n",
    "    color=[\"green\", \"yellow\", \"orange\", \"red\"]\n",
    ")"
   ]
  },
  {
   "cell_type": "markdown",
   "id": "f72b8eeb-18d8-4181-8bee-94593c5472a3",
   "metadata": {},
   "source": [
    "# Set filter on mag"
   ]
  },
  {
   "cell_type": "code",
   "execution_count": 7,
   "id": "0b73f056-f35a-46bb-a092-d899c64cd67e",
   "metadata": {},
   "outputs": [
    {
     "data": {
      "application/vnd.jupyter.widget-view+json": {
       "model_id": "5a4891d6fb0e418bbfe22c4661363022",
       "version_major": 2,
       "version_minor": 0
      },
      "text/plain": [
       "interactive(children=(IntSlider(value=3, description='mag_min', max=9, min=-3), Output()), _dom_classes=('widg…"
      ]
     },
     "metadata": {},
     "output_type": "display_data"
    },
    {
     "data": {
      "text/plain": [
       "<function __main__.<lambda>(mag_min)>"
      ]
     },
     "execution_count": 7,
     "metadata": {},
     "output_type": "execute_result"
    }
   ],
   "source": [
    "widgets.interact(\n",
    "    lambda mag_min: m.set_filter(layer_id, [\">=\", [\"get\", \"mag\"],  mag_min]),\n",
    "    mag_min=3\n",
    ")"
   ]
  },
  {
   "cell_type": "markdown",
   "id": "04372035-0dcb-4217-b01a-83e82b4c79f5",
   "metadata": {},
   "source": [
    "# Observe map click event"
   ]
  },
  {
   "cell_type": "code",
   "execution_count": 8,
   "id": "a9c5ddf7-074e-45b0-8cfe-15750fd0b4d5",
   "metadata": {},
   "outputs": [
    {
     "data": {
      "application/vnd.jupyter.widget-view+json": {
       "model_id": "119b58c9640f4b058fc218ce17203edf",
       "version_major": 2,
       "version_minor": 0
      },
      "text/plain": [
       "Output()"
      ]
     },
     "execution_count": 8,
     "metadata": {},
     "output_type": "execute_result"
    }
   ],
   "source": [
    "from IPython.display import clear_output\n",
    "\n",
    "output = widgets.Output()\n",
    "\n",
    "def log_lng_lat(lng_lat):\n",
    "    with output:\n",
    "        clear_output()\n",
    "        print(lng_lat.new)\n",
    "\n",
    "\n",
    "m.observe(log_lng_lat, names=\"lng_lat\")\n",
    "output"
   ]
  },
  {
   "cell_type": "code",
   "execution_count": 5,
   "id": "7ad74d91-1137-45b4-8791-83dc3546535e",
   "metadata": {},
   "outputs": [
    {
     "name": "stdout",
     "output_type": "stream",
     "text": [
      "Help on _InteractFactory in module ipywidgets.widgets.interaction object:\n",
      "\n",
      "class _InteractFactory(builtins.object)\n",
      " |  _InteractFactory(cls, options, kwargs={})\n",
      " |  \n",
      " |  Factory for instances of :class:`interactive`.\n",
      " |  \n",
      " |  This class is needed to support options like::\n",
      " |  \n",
      " |      >>> @interact.options(manual=True)\n",
      " |      ... def greeting(text=\"World\"):\n",
      " |      ...     print(\"Hello {}\".format(text))\n",
      " |  \n",
      " |  Parameters\n",
      " |  ----------\n",
      " |  cls : class\n",
      " |      The subclass of :class:`interactive` to construct.\n",
      " |  options : dict\n",
      " |      A dict of options used to construct the interactive\n",
      " |      function. By default, this is returned by\n",
      " |      ``cls.default_options()``.\n",
      " |  kwargs : dict\n",
      " |      A dict of **kwargs to use for widgets.\n",
      " |  \n",
      " |  Methods defined here:\n",
      " |  \n",
      " |  __call__(self, _InteractFactory__interact_f=None, **kwargs)\n",
      " |      Make the given function interactive by adding and displaying\n",
      " |      the corresponding :class:`interactive` widget.\n",
      " |      \n",
      " |      Expects the first argument to be a function. Parameters to this\n",
      " |      function are widget abbreviations passed in as keyword arguments\n",
      " |      (``**kwargs``). Can be used as a decorator (see examples).\n",
      " |      \n",
      " |      Returns\n",
      " |      -------\n",
      " |      f : __interact_f with interactive widget attached to it.\n",
      " |      \n",
      " |      Parameters\n",
      " |      ----------\n",
      " |      __interact_f : function\n",
      " |          The function to which the interactive widgets are tied. The `**kwargs`\n",
      " |          should match the function signature. Passed to :func:`interactive()`\n",
      " |      **kwargs : various, optional\n",
      " |          An interactive widget is created for each keyword argument that is a\n",
      " |          valid widget abbreviation. Passed to :func:`interactive()`\n",
      " |      \n",
      " |      Examples\n",
      " |      --------\n",
      " |      Render an interactive text field that shows the greeting with the passed in\n",
      " |      text::\n",
      " |      \n",
      " |          # 1. Using interact as a function\n",
      " |          def greeting(text=\"World\"):\n",
      " |              print(\"Hello {}\".format(text))\n",
      " |          interact(greeting, text=\"Jupyter Widgets\")\n",
      " |      \n",
      " |          # 2. Using interact as a decorator\n",
      " |          @interact\n",
      " |          def greeting(text=\"World\"):\n",
      " |              print(\"Hello {}\".format(text))\n",
      " |      \n",
      " |          # 3. Using interact as a decorator with named parameters\n",
      " |          @interact(text=\"Jupyter Widgets\")\n",
      " |          def greeting(text=\"World\"):\n",
      " |              print(\"Hello {}\".format(text))\n",
      " |      \n",
      " |      Render an interactive slider widget and prints square of number::\n",
      " |      \n",
      " |          # 1. Using interact as a function\n",
      " |          def square(num=1):\n",
      " |              print(\"{} squared is {}\".format(num, num*num))\n",
      " |          interact(square, num=5)\n",
      " |      \n",
      " |          # 2. Using interact as a decorator\n",
      " |          @interact\n",
      " |          def square(num=2):\n",
      " |              print(\"{} squared is {}\".format(num, num*num))\n",
      " |      \n",
      " |          # 3. Using interact as a decorator with named parameters\n",
      " |          @interact(num=5)\n",
      " |          def square(num=2):\n",
      " |              print(\"{} squared is {}\".format(num, num*num))\n",
      " |  \n",
      " |  __init__(self, cls, options, kwargs={})\n",
      " |      Initialize self.  See help(type(self)) for accurate signature.\n",
      " |  \n",
      " |  options(self, **kwds)\n",
      " |      Change options for interactive functions.\n",
      " |      \n",
      " |      Returns\n",
      " |      -------\n",
      " |      A new :class:`_InteractFactory` which will apply the\n",
      " |      options when called.\n",
      " |  \n",
      " |  widget(self, f)\n",
      " |      Return an interactive function widget for the given function.\n",
      " |      \n",
      " |      The widget is only constructed, not displayed nor attached to\n",
      " |      the function.\n",
      " |      \n",
      " |      Returns\n",
      " |      -------\n",
      " |      An instance of ``self.cls`` (typically :class:`interactive`).\n",
      " |      \n",
      " |      Parameters\n",
      " |      ----------\n",
      " |      f : function\n",
      " |          The function to which the interactive widgets are tied.\n",
      " |  \n",
      " |  ----------------------------------------------------------------------\n",
      " |  Data descriptors defined here:\n",
      " |  \n",
      " |  __dict__\n",
      " |      dictionary for instance variables (if defined)\n",
      " |  \n",
      " |  __weakref__\n",
      " |      list of weak references to the object (if defined)\n",
      "\n"
     ]
    }
   ],
   "source": []
  },
  {
   "cell_type": "code",
   "execution_count": null,
   "id": "9d34e0d6-7ff9-4f72-9af7-e8a19d51604a",
   "metadata": {},
   "outputs": [],
   "source": []
  }
 ],
 "metadata": {
  "kernelspec": {
   "display_name": "Python 3 (ipykernel)",
   "language": "python",
   "name": "python3"
  },
  "language_info": {
   "codemirror_mode": {
    "name": "ipython",
    "version": 3
   },
   "file_extension": ".py",
   "mimetype": "text/x-python",
   "name": "python",
   "nbconvert_exporter": "python",
   "pygments_lexer": "ipython3",
   "version": "3.9.18"
  }
 },
 "nbformat": 4,
 "nbformat_minor": 5
}
